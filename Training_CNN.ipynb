{
  "cells": [
    {
      "cell_type": "markdown",
      "metadata": {},
      "source": [
        "# CNN Model training for denoising Noisy images in fourier domain"
      ]
    },
    {
      "cell_type": "code",
      "execution_count": null,
      "metadata": {
        "colab": {
          "base_uri": "https://localhost:8080/"
        },
        "id": "orNgsrXygH6c",
        "outputId": "a8bf2074-b8ac-46b8-8e79-df95ce08f150"
      },
      "outputs": [
        {
          "name": "stdout",
          "output_type": "stream",
          "text": [
            "Sample of files: ['Canon5D2_5_160_6400_desk_7_mean.JPG', 'Canon600D_4-5_125_1600_book_11_real.JPG', 'Canon80D_8_8_12800_printer_16_mean.JPG', 'Canon600D_4-5_125_1600_toy_3_real.JPG', 'Sony_4_200_3200_door_10_mean.JPG', 'NikonD800_5_100_4000_flower_15_real.JPG', 'Sony_4-5_125_6400_waterhouse_10_mean.JPG', 'Canon80D_8_8_3200_ball_7_real.JPG', 'NikonD800_8_100_6400_bulletin_5_real.JPG', 'Canon600D_4-5_125_1600_toy_16_mean.JPG']\n"
          ]
        }
      ],
      "source": [
        "import os\n",
        "import numpy as np\n",
        "import tensorflow as tf\n",
        "from numpy.fft import fft2, ifft2, fftshift, ifftshift\n",
        "from tensorflow.image import psnr, ssim\n",
        "from sklearn.model_selection import train_test_split\n",
        "import tensorflow as tf\n",
        "import numpy as np\n",
        "import matplotlib.pyplot as plt\n",
        "import numpy as np\n",
        "from tensorflow.keras.preprocessing.image import load_img, img_to_array\n",
        "from tensorflow.keras.layers import Input, Conv2D, BatchNormalization, Activation, Add\n",
        "from tensorflow.keras.models import Model\n",
        "\n",
        "\n",
        "extract_folder = 'CroppedImages'\n",
        "\n",
        "\n",
        "# List files to check the structure\n",
        "file_list = os.listdir(extract_folder)\n",
        "print(\"Sample of files:\", file_list[:10])  # Print first 10 file names to check\n"
      ]
    },
    {
      "cell_type": "code",
      "execution_count": null,
      "metadata": {
        "id": "-7NQ2hwlVwYn"
      },
      "outputs": [],
      "source": [
        "def pair_images(file_list):\n",
        "    paired_images = {}\n",
        "    for file in file_list:\n",
        "        parts = file.split('_')\n",
        "        key = '_'.join(parts[:-1])  # Create a key by excluding the last part (mean/real)\n",
        "        image_type = parts[-1].split('.')[0]  # Identify if it's 'mean' or 'real'\n",
        "\n",
        "        if key not in paired_images:\n",
        "            paired_images[key] = {}\n",
        "        paired_images[key][image_type] = os.path.join(extract_folder, file)\n",
        "\n",
        "    return paired_images\n"
      ]
    },
    {
      "cell_type": "code",
      "execution_count": null,
      "metadata": {
        "colab": {
          "base_uri": "https://localhost:8080/"
        },
        "id": "-pAkLi5-R-gi",
        "outputId": "ee529000-1b4b-42a0-e4e0-714e2fae69b1"
      },
      "outputs": [
        {
          "name": "stdout",
          "output_type": "stream",
          "text": [
            "Train set size: 80\n",
            "Test set size: 20\n"
          ]
        }
      ],
      "source": [
        "def apply_fourier_transform(image_array):\n",
        "    \"\"\"\n",
        "    Apply the Fourier transform to each color channel of an RGB image and return the real and imaginary parts stacked along the channel axis.\n",
        "\n",
        "    Args:\n",
        "        image_array (numpy.ndarray): Input RGB image array.\n",
        "\n",
        "    Returns:\n",
        "        numpy.ndarray: Array with the real and imaginary parts of the Fourier transformed channels stacked.\n",
        "    \"\"\"\n",
        "    # Initialize an array to hold the transformed data with twice as many channels\n",
        "    transformed = np.zeros((*image_array.shape[:-1], image_array.shape[-1]*2), dtype=np.float32)\n",
        "    \n",
        "    for i in range(3):  # Assuming RGB channels\n",
        "        channel_ft = np.fft.fftshift(np.fft.fft2(image_array[:, :, i]))\n",
        "        transformed[:, :, 2*i] = channel_ft.real\n",
        "        transformed[:, :, 2*i+1] = channel_ft.imag\n",
        "    \n",
        "    return transformed\n",
        "\n",
        "\n",
        "paired_images = pair_images(file_list)  # Make sure this function works correctly as discussed earlier\n",
        "\n",
        "# Prepare a list of file paths for real and mean images\n",
        "real_paths = []\n",
        "mean_paths = []\n",
        "\n",
        "for key, paths in paired_images.items():\n",
        "    if 'real' in paths and 'mean' in paths:  # Check if both keys are present\n",
        "        real_paths.append(paths['real'])\n",
        "        mean_paths.append(paths['mean'])\n",
        "\n",
        "# Assuming 'real_paths' and 'mean_paths' are populated lists of image paths\n",
        "# Split dataset into training (70%) and a temporary remainder set (30%)\n",
        "real_paths_train, real_paths_test, mean_paths_train, mean_paths_test = train_test_split(\n",
        "    real_paths, mean_paths, test_size=0.2, random_state=42)\n",
        "\n",
        "# # Now split the temporary remainder set into validation and test sets equally\n",
        "# real_paths_val, real_paths_test, mean_paths_val, mean_paths_test = train_test_split(\n",
        "#     real_paths_temp, mean_paths_temp, test_size=0.5, random_state=42)  # This will be 15% of the original each\n",
        "\n",
        "print(f\"Train set size: {len(real_paths_train)}\")\n",
        "# print(f\"Validation set size: {len(real_paths_val)}\")\n",
        "print(f\"Test set size: {len(real_paths_test)}\")\n",
        "\n",
        "# This setup addresses RGB images, handling each color channel separately in the Fourier transform.\n"
      ]
    },
    {
      "cell_type": "code",
      "execution_count": null,
      "metadata": {
        "id": "EmKCOtboWHQ4"
      },
      "outputs": [],
      "source": [
        "def load_and_preprocess_image(real_path, mean_path):\n",
        "    \"\"\"\n",
        "    Load and preprocess noisy and clean images from given file paths, apply Fourier transform,\n",
        "    and normalize the images.\n",
        "\n",
        "    Args:\n",
        "        real_path (str): File path to the noisy image.\n",
        "        mean_path (str): File path to the clean (mean) image.\n",
        "\n",
        "    Returns:\n",
        "        tuple: Tuple containing arrays for the Fourier-transformed noisy and clean images.\n",
        "    \"\"\"\n",
        "    # Load images with a target size and normalize pixel values\n",
        "    noisy_img = load_img(real_path, target_size=(512, 512))\n",
        "    clean_img = load_img(mean_path, target_size=(512, 512))\n",
        "\n",
        "    # Convert images to numpy arrays and normalize\n",
        "    noisy_array = img_to_array(noisy_img) / 255.0\n",
        "    clean_array = img_to_array(clean_img) / 255.0\n",
        "\n",
        "    # Apply Fourier transform to both noisy and clean images\n",
        "    noisy_ft = apply_fourier_transform(noisy_array.astype('float32'))\n",
        "    clean_ft = apply_fourier_transform(clean_array.astype('float32'))\n",
        "\n",
        "    return noisy_ft, clean_ft\n",
        "\n",
        "def create_dataset(real_paths, mean_paths, batch_size):\n",
        "    \"\"\"\n",
        "    Create a TensorFlow dataset from lists of file paths for real and mean images. The dataset\n",
        "    processes files in batches, applying loading, preprocessing, and transformation functions.\n",
        "\n",
        "    Args:\n",
        "        real_paths (list of str): List of paths to real (noisy) images.\n",
        "        mean_paths (list of str): List of paths to mean (clean) images.\n",
        "        batch_size (int): Size of the batches to return.\n",
        "\n",
        "    Returns:\n",
        "        tf.data.Dataset: A TensorFlow dataset ready for model training or evaluation.\n",
        "    \"\"\"\n",
        "    # Create a dataset from tensor slices of file paths\n",
        "    dataset = tf.data.Dataset.from_tensor_slices((real_paths, mean_paths))\n",
        "\n",
        "    # Map loading and preprocessing functions onto dataset elements\n",
        "    dataset = dataset.map(\n",
        "        lambda real_path, mean_path: tf.numpy_function(\n",
        "            load_and_preprocess_image, [real_path, mean_path], [tf.float32, tf.float32]),\n",
        "        num_parallel_calls=tf.data.experimental.AUTOTUNE)\n",
        "\n",
        "    # Batch and prefetch data for optimal performance during training\n",
        "    dataset = dataset.batch(batch_size).prefetch(tf.data.experimental.AUTOTUNE)\n",
        "    \n",
        "    return dataset\n",
        "\n",
        "\n",
        "# Set batch size\n",
        "batch_size = 4\n",
        "\n",
        "# Create training and validation datasets\n",
        "train_dataset = create_dataset(real_paths_train, mean_paths_train, batch_size)\n",
        "# val_dataset = create_dataset(real_paths_val, mean_paths_val, batch_size)\n",
        "test_dataset = create_dataset(real_paths_test, mean_paths_test, batch_size)\n",
        "total_dataset = create_dataset(real_paths, mean_paths, batch_size)"
      ]
    },
    {
      "cell_type": "code",
      "execution_count": null,
      "metadata": {
        "id": "fyssppjYABT4"
      },
      "outputs": [],
      "source": [
        "def residual_block(x, filters, kernel_size=3, activation='relu', batch_norm=True):\n",
        "    \"\"\"\n",
        "    Construct a residual block for a convolutional neural network.\n",
        "\n",
        "    Args:\n",
        "        x (Tensor): Input tensor to the residual block.\n",
        "        filters (int): Number of filters in the convolution layers.\n",
        "        kernel_size (tuple or int): Size of the convolution kernel.\n",
        "        activation (str): Activation function to use.\n",
        "        batch_norm (bool): Whether to use batch normalization.\n",
        "\n",
        "    Returns:\n",
        "        Tensor: Output tensor from the residual block.\n",
        "    \"\"\"\n",
        "    # Convolutional layer 1\n",
        "    y = Conv2D(filters, kernel_size, padding='same')(x)\n",
        "    if batch_norm:\n",
        "        y = BatchNormalization()(y)  # Apply batch normalization if enabled\n",
        "    y = Activation(activation)(y)  # Apply activation function\n",
        "\n",
        "    # Convolutional layer 2\n",
        "    y = Conv2D(filters, kernel_size, padding='same')(y)\n",
        "    if batch_norm:\n",
        "        y = BatchNormalization()(y)  # Apply batch normalization again\n",
        "\n",
        "    # Add the input x (residual connection) to the output of the second convolution layer\n",
        "    y = Add()([y, x])\n",
        "    y = Activation(activation)(y)  # Apply activation function to the sum\n",
        "    return y\n",
        "\n",
        "def build_fourier_domain_model(input_shape, num_res_blocks=5):\n",
        "    \"\"\"\n",
        "    Build a CNN model for processing images in the Fourier domain.\n",
        "\n",
        "    Args:\n",
        "        input_shape (tuple): Shape of the input image tensor.\n",
        "        num_res_blocks (int): Number of residual blocks to include in the model.\n",
        "\n",
        "    Returns:\n",
        "        Model: A TensorFlow/Keras model.\n",
        "    \"\"\"\n",
        "    inputs = Input(shape=input_shape)  # Define input layer\n",
        "\n",
        "    # Initial convolutional layer\n",
        "    x = Conv2D(64, (3, 3), activation='relu', padding='same')(inputs)\n",
        "\n",
        "    # Add specified number of residual blocks\n",
        "    for _ in range(num_res_blocks):\n",
        "        x = residual_block(x, 64)  # Apply residual block\n",
        "\n",
        "    # Final convolutional layer; output has 6 filters (real and imaginary parts for 3 channels)\n",
        "    outputs = Conv2D(6, (3, 3), activation=None, padding='same')(x)\n",
        "\n",
        "    # Create the model with specified inputs and outputs\n",
        "    model = Model(inputs=inputs, outputs=outputs)\n",
        "\n",
        "    return model\n",
        "\n",
        "\n",
        "# Specify the input shape of the images (height, width, channels)\n",
        "input_shape = (512, 512, 6)  # 6 channels for the Fourier transformed image (3 real + 3 imaginary)\n",
        "\n",
        "# Build the model\n",
        "model = build_fourier_domain_model(input_shape)\n",
        "\n",
        "# Compile the model\n",
        "model.compile(optimizer='adam', loss='mse')"
      ]
    },
    {
      "cell_type": "code",
      "execution_count": null,
      "metadata": {
        "colab": {
          "base_uri": "https://localhost:8080/"
        },
        "id": "8Ab-uIxeWi_v",
        "outputId": "64e18590-d870-4d97-a7ac-528ecd13e914"
      },
      "outputs": [
        {
          "name": "stdout",
          "output_type": "stream",
          "text": [
            "Epoch 1/50\n",
            "20/20 [==============================] - 33s 857ms/step - loss: 11829.5381 - val_loss: 3052.9875\n",
            "Epoch 2/50\n",
            "20/20 [==============================] - 18s 885ms/step - loss: 1861.1047 - val_loss: 1832.1849\n",
            "Epoch 3/50\n",
            "20/20 [==============================] - 17s 853ms/step - loss: 1006.2747 - val_loss: 967.2180\n",
            "Epoch 4/50\n",
            "20/20 [==============================] - 18s 897ms/step - loss: 790.6420 - val_loss: 793.4839\n",
            "Epoch 5/50\n",
            "20/20 [==============================] - 18s 862ms/step - loss: 671.3068 - val_loss: 668.6274\n",
            "Epoch 6/50\n",
            "20/20 [==============================] - 18s 902ms/step - loss: 580.0284 - val_loss: 579.6773\n",
            "Epoch 7/50\n",
            "20/20 [==============================] - 18s 874ms/step - loss: 503.9909 - val_loss: 510.2334\n",
            "Epoch 8/50\n",
            "20/20 [==============================] - 18s 884ms/step - loss: 437.4920 - val_loss: 457.2968\n",
            "Epoch 9/50\n",
            "20/20 [==============================] - 19s 926ms/step - loss: 380.3438 - val_loss: 416.4795\n",
            "Epoch 10/50\n",
            "20/20 [==============================] - 19s 925ms/step - loss: 332.6530 - val_loss: 378.8226\n",
            "Epoch 11/50\n",
            "20/20 [==============================] - 18s 873ms/step - loss: 293.8334 - val_loss: 347.9034\n",
            "Epoch 12/50\n",
            "20/20 [==============================] - 18s 862ms/step - loss: 262.0061 - val_loss: 324.1063\n",
            "Epoch 13/50\n",
            "20/20 [==============================] - 19s 920ms/step - loss: 235.2970 - val_loss: 303.0847\n",
            "Epoch 14/50\n",
            "20/20 [==============================] - 18s 872ms/step - loss: 213.8088 - val_loss: 282.4204\n",
            "Epoch 15/50\n",
            "20/20 [==============================] - 19s 922ms/step - loss: 196.9406 - val_loss: 263.7221\n",
            "Epoch 16/50\n",
            "20/20 [==============================] - 18s 876ms/step - loss: 182.2152 - val_loss: 250.4711\n",
            "Epoch 17/50\n",
            "20/20 [==============================] - 18s 878ms/step - loss: 169.8306 - val_loss: 236.0666\n",
            "Epoch 18/50\n",
            "20/20 [==============================] - 18s 885ms/step - loss: 159.3852 - val_loss: 222.6817\n",
            "Epoch 19/50\n",
            "20/20 [==============================] - 18s 879ms/step - loss: 149.7221 - val_loss: 211.9363\n",
            "Epoch 20/50\n",
            "20/20 [==============================] - 18s 896ms/step - loss: 141.9459 - val_loss: 205.6725\n",
            "Epoch 21/50\n",
            "20/20 [==============================] - 18s 876ms/step - loss: 135.1951 - val_loss: 196.3895\n",
            "Epoch 22/50\n",
            "20/20 [==============================] - 18s 875ms/step - loss: 128.8110 - val_loss: 185.9730\n",
            "Epoch 23/50\n",
            "20/20 [==============================] - 18s 916ms/step - loss: 122.8720 - val_loss: 179.4623\n",
            "Epoch 24/50\n",
            "20/20 [==============================] - 19s 919ms/step - loss: 117.4433 - val_loss: 171.8402\n",
            "Epoch 25/50\n",
            "20/20 [==============================] - 18s 907ms/step - loss: 112.7331 - val_loss: 163.7816\n",
            "Epoch 26/50\n",
            "20/20 [==============================] - 18s 880ms/step - loss: 108.2302 - val_loss: 158.3389\n",
            "Epoch 27/50\n",
            "20/20 [==============================] - 18s 895ms/step - loss: 104.5002 - val_loss: 153.5732\n",
            "Epoch 28/50\n",
            "20/20 [==============================] - 18s 879ms/step - loss: 100.6116 - val_loss: 148.5331\n",
            "Epoch 29/50\n",
            "20/20 [==============================] - 19s 917ms/step - loss: 96.9641 - val_loss: 145.5301\n",
            "Epoch 30/50\n",
            "20/20 [==============================] - 18s 877ms/step - loss: 94.2362 - val_loss: 142.5335\n",
            "Epoch 31/50\n",
            "20/20 [==============================] - 18s 877ms/step - loss: 91.2395 - val_loss: 142.1389\n",
            "Epoch 32/50\n",
            "20/20 [==============================] - 18s 906ms/step - loss: 88.8708 - val_loss: 138.3445\n",
            "Epoch 33/50\n",
            "20/20 [==============================] - 19s 917ms/step - loss: 86.8870 - val_loss: 134.3971\n",
            "Epoch 34/50\n",
            "20/20 [==============================] - 18s 878ms/step - loss: 85.4527 - val_loss: 133.0524\n",
            "Epoch 35/50\n",
            "20/20 [==============================] - 18s 892ms/step - loss: 84.4772 - val_loss: 132.5001\n",
            "Epoch 36/50\n",
            "20/20 [==============================] - 18s 876ms/step - loss: 83.4501 - val_loss: 131.4886\n",
            "Epoch 37/50\n",
            "20/20 [==============================] - 18s 882ms/step - loss: 81.4683 - val_loss: 122.8966\n",
            "Epoch 38/50\n",
            "20/20 [==============================] - 19s 917ms/step - loss: 79.6677 - val_loss: 118.7495\n",
            "Epoch 39/50\n",
            "20/20 [==============================] - 19s 918ms/step - loss: 79.7171 - val_loss: 122.9221\n",
            "Epoch 40/50\n",
            "20/20 [==============================] - 18s 871ms/step - loss: 78.8704 - val_loss: 119.5391\n",
            "Epoch 41/50\n",
            "20/20 [==============================] - 18s 875ms/step - loss: 75.8252 - val_loss: 114.2648\n",
            "Epoch 42/50\n",
            "20/20 [==============================] - 19s 918ms/step - loss: 73.8222 - val_loss: 116.9468\n",
            "Epoch 43/50\n",
            "20/20 [==============================] - 18s 877ms/step - loss: 72.0002 - val_loss: 116.1053\n",
            "Epoch 44/50\n",
            "20/20 [==============================] - 18s 884ms/step - loss: 70.2299 - val_loss: 113.9160\n",
            "Epoch 45/50\n",
            "20/20 [==============================] - 18s 873ms/step - loss: 69.4799 - val_loss: 115.2414\n",
            "Epoch 46/50\n",
            "20/20 [==============================] - 18s 881ms/step - loss: 68.1582 - val_loss: 114.2581\n",
            "Epoch 47/50\n",
            "20/20 [==============================] - 18s 906ms/step - loss: 67.1127 - val_loss: 109.3350\n",
            "Epoch 48/50\n",
            "20/20 [==============================] - 18s 875ms/step - loss: 66.4832 - val_loss: 106.8392\n",
            "Epoch 49/50\n",
            "20/20 [==============================] - 18s 873ms/step - loss: 65.2508 - val_loss: 106.9223\n",
            "Epoch 50/50\n",
            "20/20 [==============================] - 19s 916ms/step - loss: 64.3723 - val_loss: 107.2630\n"
          ]
        }
      ],
      "source": [
        "history = model.fit(train_dataset, epochs=100, validation_data=test_dataset)\n"
      ]
    },
    {
      "cell_type": "code",
      "execution_count": null,
      "metadata": {
        "colab": {
          "base_uri": "https://localhost:8080/",
          "height": 487
        },
        "id": "EEqvI0ku_vxQ",
        "outputId": "5533a64f-6c8c-4e60-b338-ae656fe5742a"
      },
      "outputs": [
        {
          "data": {
            "image/png": "[encoded data removed]",
            "text/plain": [
              "<Figure size 1000x500 with 1 Axes>"
            ]
          },
          "metadata": {},
          "output_type": "display_data"
        }
      ],
      "source": [
        "import matplotlib.pyplot as plt\n",
        "\n",
        "# Plot training & validation loss values\n",
        "plt.figure(figsize=(10, 5))\n",
        "plt.plot(history.history['loss'], label='Train')\n",
        "if 'val_loss' in history.history:\n",
        "    plt.plot(history.history['val_loss'], label='Validation')\n",
        "plt.title('Model loss')\n",
        "plt.ylabel('Loss')\n",
        "plt.xlabel('Epoch')\n",
        "plt.legend(loc='upper right')\n",
        "plt.show()"
      ]
    },
    {
      "cell_type": "code",
      "execution_count": null,
      "metadata": {
        "colab": {
          "base_uri": "https://localhost:8080/"
        },
        "id": "eUrtos--DFVQ",
        "outputId": "31a9505e-3798-4a34-cc90-a2d32989eacb"
      },
      "outputs": [
        {
          "name": "stdout",
          "output_type": "stream",
          "text": [
            "5/5 [==============================] - 2s 303ms/step - loss: 107.2630\n"
          ]
        }
      ],
      "source": [
        "test_results = model.evaluate(test_dataset)"
      ]
    },
    {
      "cell_type": "code",
      "execution_count": null,
      "metadata": {
        "colab": {
          "base_uri": "https://localhost:8080/"
        },
        "id": "pTSxnJiCDueK",
        "outputId": "7faf66fd-4eda-40ea-c6e6-3d540004f60b"
      },
      "outputs": [
        {
          "name": "stdout",
          "output_type": "stream",
          "text": [
            "25/25 [==============================] - 9s 367ms/step - loss: 76.2694\n"
          ]
        }
      ],
      "source": [
        "test_results = model.evaluate(total_dataset)"
      ]
    },
    {
      "cell_type": "code",
      "execution_count": null,
      "metadata": {
        "id": "FT3N9OwzeNbX"
      },
      "outputs": [],
      "source": [
        "# Save model\n",
        "model.save('Denoising_CNN_Model')\n",
        "\n",
        "# Load model\n",
        "# model = tf.keras.models.load_model('Denoising_CNN_Model')\n"
      ]
    }
  ],
  "metadata": {
    "accelerator": "GPU",
    "colab": {
      "gpuType": "T4",
      "provenance": []
    },
    "kernelspec": {
      "display_name": "Python 3",
      "name": "python3"
    },
    "language_info": {
      "name": "python"
    }
  },
  "nbformat": 4,
  "nbformat_minor": 0
}
